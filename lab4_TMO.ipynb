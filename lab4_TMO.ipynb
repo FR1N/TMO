{
 "cells": [
  {
   "cell_type": "markdown",
   "metadata": {},
   "source": [
    "## Лабораторная работа №4 по крусу ТМО\n",
    "### \"Подготовка обучающей и тестовой выборки, кросс-валидация и подбор гиперпараметров на примере метода ближайших соседей\"."
   ]
  },
  {
   "cell_type": "code",
   "execution_count": 2,
   "metadata": {},
   "outputs": [],
   "source": [
    "import numpy as np\n",
    "import pandas as pd\n",
    "from sklearn.model_selection import train_test_split\n",
    "from sklearn.neighbors import KNeighborsRegressor, KNeighborsClassifier\n",
    "from sklearn.model_selection import cross_val_score, cross_validate\n",
    "from sklearn.model_selection import KFold, RepeatedKFold, LeaveOneOut, LeavePOut, ShuffleSplit, StratifiedKFold\n",
    "from sklearn.metrics import accuracy_score, balanced_accuracy_score\n",
    "from sklearn.metrics import precision_score, recall_score, f1_score, classification_report\n",
    "from sklearn.metrics import confusion_matrix\n",
    "from sklearn.metrics import mean_absolute_error, mean_squared_error, mean_squared_log_error, median_absolute_error, r2_score \n",
    "from sklearn.metrics import roc_curve, roc_auc_score\n",
    "from sklearn.model_selection import GridSearchCV\n",
    "from sklearn.model_selection import learning_curve, validation_curve\n",
    "from sklearn.preprocessing import StandardScaler\n",
    "import seaborn as sns\n",
    "import matplotlib.pyplot as plt\n",
    "%matplotlib inline \n",
    "sns.set(style=\"ticks\")"
   ]
  },
  {
   "cell_type": "markdown",
   "metadata": {},
   "source": [
    "### 1. Загрузка и первичный анализ данных\n",
    "Выбран набор данных [Болезни сердца UCI](https://www.kaggle.com/ronitf/heart-disease-uci)."
   ]
  },
  {
   "cell_type": "code",
   "execution_count": 3,
   "metadata": {},
   "outputs": [
    {
     "data": {
      "text/html": [
       "<div>\n",
       "<style scoped>\n",
       "    .dataframe tbody tr th:only-of-type {\n",
       "        vertical-align: middle;\n",
       "    }\n",
       "\n",
       "    .dataframe tbody tr th {\n",
       "        vertical-align: top;\n",
       "    }\n",
       "\n",
       "    .dataframe thead th {\n",
       "        text-align: right;\n",
       "    }\n",
       "</style>\n",
       "<table border=\"1\" class=\"dataframe\">\n",
       "  <thead>\n",
       "    <tr style=\"text-align: right;\">\n",
       "      <th></th>\n",
       "      <th>age</th>\n",
       "      <th>sex</th>\n",
       "      <th>cp</th>\n",
       "      <th>trestbps</th>\n",
       "      <th>chol</th>\n",
       "      <th>fbs</th>\n",
       "      <th>restecg</th>\n",
       "      <th>thalach</th>\n",
       "      <th>exang</th>\n",
       "      <th>oldpeak</th>\n",
       "      <th>slope</th>\n",
       "      <th>ca</th>\n",
       "      <th>thal</th>\n",
       "      <th>target</th>\n",
       "    </tr>\n",
       "  </thead>\n",
       "  <tbody>\n",
       "    <tr>\n",
       "      <th>0</th>\n",
       "      <td>63</td>\n",
       "      <td>1</td>\n",
       "      <td>3</td>\n",
       "      <td>145</td>\n",
       "      <td>233</td>\n",
       "      <td>1</td>\n",
       "      <td>0</td>\n",
       "      <td>150</td>\n",
       "      <td>0</td>\n",
       "      <td>2.3</td>\n",
       "      <td>0</td>\n",
       "      <td>0</td>\n",
       "      <td>1</td>\n",
       "      <td>1</td>\n",
       "    </tr>\n",
       "    <tr>\n",
       "      <th>1</th>\n",
       "      <td>37</td>\n",
       "      <td>1</td>\n",
       "      <td>2</td>\n",
       "      <td>130</td>\n",
       "      <td>250</td>\n",
       "      <td>0</td>\n",
       "      <td>1</td>\n",
       "      <td>187</td>\n",
       "      <td>0</td>\n",
       "      <td>3.5</td>\n",
       "      <td>0</td>\n",
       "      <td>0</td>\n",
       "      <td>2</td>\n",
       "      <td>1</td>\n",
       "    </tr>\n",
       "    <tr>\n",
       "      <th>2</th>\n",
       "      <td>41</td>\n",
       "      <td>0</td>\n",
       "      <td>1</td>\n",
       "      <td>130</td>\n",
       "      <td>204</td>\n",
       "      <td>0</td>\n",
       "      <td>0</td>\n",
       "      <td>172</td>\n",
       "      <td>0</td>\n",
       "      <td>1.4</td>\n",
       "      <td>2</td>\n",
       "      <td>0</td>\n",
       "      <td>2</td>\n",
       "      <td>1</td>\n",
       "    </tr>\n",
       "    <tr>\n",
       "      <th>3</th>\n",
       "      <td>56</td>\n",
       "      <td>1</td>\n",
       "      <td>1</td>\n",
       "      <td>120</td>\n",
       "      <td>236</td>\n",
       "      <td>0</td>\n",
       "      <td>1</td>\n",
       "      <td>178</td>\n",
       "      <td>0</td>\n",
       "      <td>0.8</td>\n",
       "      <td>2</td>\n",
       "      <td>0</td>\n",
       "      <td>2</td>\n",
       "      <td>1</td>\n",
       "    </tr>\n",
       "    <tr>\n",
       "      <th>4</th>\n",
       "      <td>57</td>\n",
       "      <td>0</td>\n",
       "      <td>0</td>\n",
       "      <td>120</td>\n",
       "      <td>354</td>\n",
       "      <td>0</td>\n",
       "      <td>1</td>\n",
       "      <td>163</td>\n",
       "      <td>1</td>\n",
       "      <td>0.6</td>\n",
       "      <td>2</td>\n",
       "      <td>0</td>\n",
       "      <td>2</td>\n",
       "      <td>1</td>\n",
       "    </tr>\n",
       "  </tbody>\n",
       "</table>\n",
       "</div>"
      ],
      "text/plain": [
       "   age  sex  cp  trestbps  chol  fbs  restecg  thalach  exang  oldpeak  slope  \\\n",
       "0   63    1   3       145   233    1        0      150      0      2.3      0   \n",
       "1   37    1   2       130   250    0        1      187      0      3.5      0   \n",
       "2   41    0   1       130   204    0        0      172      0      1.4      2   \n",
       "3   56    1   1       120   236    0        1      178      0      0.8      2   \n",
       "4   57    0   0       120   354    0        1      163      1      0.6      2   \n",
       "\n",
       "   ca  thal  target  \n",
       "0   0     1       1  \n",
       "1   0     2       1  \n",
       "2   0     2       1  \n",
       "3   0     2       1  \n",
       "4   0     2       1  "
      ]
     },
     "execution_count": 3,
     "metadata": {},
     "output_type": "execute_result"
    }
   ],
   "source": [
    "data = pd.read_csv('../datasets/heart.csv', sep=',')\n",
    "data.head()"
   ]
  },
  {
   "cell_type": "code",
   "execution_count": 4,
   "metadata": {},
   "outputs": [
    {
     "data": {
      "text/plain": [
       "(303, 14)"
      ]
     },
     "execution_count": 4,
     "metadata": {},
     "output_type": "execute_result"
    }
   ],
   "source": [
    "data.shape"
   ]
  },
  {
   "cell_type": "code",
   "execution_count": 5,
   "metadata": {},
   "outputs": [
    {
     "data": {
      "text/plain": [
       "age         0\n",
       "sex         0\n",
       "cp          0\n",
       "trestbps    0\n",
       "chol        0\n",
       "fbs         0\n",
       "restecg     0\n",
       "thalach     0\n",
       "exang       0\n",
       "oldpeak     0\n",
       "slope       0\n",
       "ca          0\n",
       "thal        0\n",
       "target      0\n",
       "dtype: int64"
      ]
     },
     "execution_count": 5,
     "metadata": {},
     "output_type": "execute_result"
    }
   ],
   "source": [
    "data.isnull().sum()"
   ]
  },
  {
   "cell_type": "code",
   "execution_count": 6,
   "metadata": {},
   "outputs": [
    {
     "data": {
      "text/html": [
       "<div>\n",
       "<style scoped>\n",
       "    .dataframe tbody tr th:only-of-type {\n",
       "        vertical-align: middle;\n",
       "    }\n",
       "\n",
       "    .dataframe tbody tr th {\n",
       "        vertical-align: top;\n",
       "    }\n",
       "\n",
       "    .dataframe thead th {\n",
       "        text-align: right;\n",
       "    }\n",
       "</style>\n",
       "<table border=\"1\" class=\"dataframe\">\n",
       "  <thead>\n",
       "    <tr style=\"text-align: right;\">\n",
       "      <th></th>\n",
       "      <th>age</th>\n",
       "      <th>sex</th>\n",
       "      <th>cp</th>\n",
       "      <th>trestbps</th>\n",
       "      <th>chol</th>\n",
       "      <th>fbs</th>\n",
       "      <th>restecg</th>\n",
       "      <th>thalach</th>\n",
       "      <th>exang</th>\n",
       "      <th>oldpeak</th>\n",
       "      <th>slope</th>\n",
       "      <th>ca</th>\n",
       "      <th>thal</th>\n",
       "      <th>target</th>\n",
       "    </tr>\n",
       "  </thead>\n",
       "  <tbody>\n",
       "    <tr>\n",
       "      <th>age</th>\n",
       "      <td>1.000000</td>\n",
       "      <td>-0.098447</td>\n",
       "      <td>-0.068653</td>\n",
       "      <td>0.279351</td>\n",
       "      <td>0.213678</td>\n",
       "      <td>0.121308</td>\n",
       "      <td>-0.116211</td>\n",
       "      <td>-0.398522</td>\n",
       "      <td>0.096801</td>\n",
       "      <td>0.210013</td>\n",
       "      <td>-0.168814</td>\n",
       "      <td>0.276326</td>\n",
       "      <td>0.068001</td>\n",
       "      <td>-0.225439</td>\n",
       "    </tr>\n",
       "    <tr>\n",
       "      <th>sex</th>\n",
       "      <td>-0.098447</td>\n",
       "      <td>1.000000</td>\n",
       "      <td>-0.049353</td>\n",
       "      <td>-0.056769</td>\n",
       "      <td>-0.197912</td>\n",
       "      <td>0.045032</td>\n",
       "      <td>-0.058196</td>\n",
       "      <td>-0.044020</td>\n",
       "      <td>0.141664</td>\n",
       "      <td>0.096093</td>\n",
       "      <td>-0.030711</td>\n",
       "      <td>0.118261</td>\n",
       "      <td>0.210041</td>\n",
       "      <td>-0.280937</td>\n",
       "    </tr>\n",
       "    <tr>\n",
       "      <th>cp</th>\n",
       "      <td>-0.068653</td>\n",
       "      <td>-0.049353</td>\n",
       "      <td>1.000000</td>\n",
       "      <td>0.047608</td>\n",
       "      <td>-0.076904</td>\n",
       "      <td>0.094444</td>\n",
       "      <td>0.044421</td>\n",
       "      <td>0.295762</td>\n",
       "      <td>-0.394280</td>\n",
       "      <td>-0.149230</td>\n",
       "      <td>0.119717</td>\n",
       "      <td>-0.181053</td>\n",
       "      <td>-0.161736</td>\n",
       "      <td>0.433798</td>\n",
       "    </tr>\n",
       "    <tr>\n",
       "      <th>trestbps</th>\n",
       "      <td>0.279351</td>\n",
       "      <td>-0.056769</td>\n",
       "      <td>0.047608</td>\n",
       "      <td>1.000000</td>\n",
       "      <td>0.123174</td>\n",
       "      <td>0.177531</td>\n",
       "      <td>-0.114103</td>\n",
       "      <td>-0.046698</td>\n",
       "      <td>0.067616</td>\n",
       "      <td>0.193216</td>\n",
       "      <td>-0.121475</td>\n",
       "      <td>0.101389</td>\n",
       "      <td>0.062210</td>\n",
       "      <td>-0.144931</td>\n",
       "    </tr>\n",
       "    <tr>\n",
       "      <th>chol</th>\n",
       "      <td>0.213678</td>\n",
       "      <td>-0.197912</td>\n",
       "      <td>-0.076904</td>\n",
       "      <td>0.123174</td>\n",
       "      <td>1.000000</td>\n",
       "      <td>0.013294</td>\n",
       "      <td>-0.151040</td>\n",
       "      <td>-0.009940</td>\n",
       "      <td>0.067023</td>\n",
       "      <td>0.053952</td>\n",
       "      <td>-0.004038</td>\n",
       "      <td>0.070511</td>\n",
       "      <td>0.098803</td>\n",
       "      <td>-0.085239</td>\n",
       "    </tr>\n",
       "    <tr>\n",
       "      <th>fbs</th>\n",
       "      <td>0.121308</td>\n",
       "      <td>0.045032</td>\n",
       "      <td>0.094444</td>\n",
       "      <td>0.177531</td>\n",
       "      <td>0.013294</td>\n",
       "      <td>1.000000</td>\n",
       "      <td>-0.084189</td>\n",
       "      <td>-0.008567</td>\n",
       "      <td>0.025665</td>\n",
       "      <td>0.005747</td>\n",
       "      <td>-0.059894</td>\n",
       "      <td>0.137979</td>\n",
       "      <td>-0.032019</td>\n",
       "      <td>-0.028046</td>\n",
       "    </tr>\n",
       "    <tr>\n",
       "      <th>restecg</th>\n",
       "      <td>-0.116211</td>\n",
       "      <td>-0.058196</td>\n",
       "      <td>0.044421</td>\n",
       "      <td>-0.114103</td>\n",
       "      <td>-0.151040</td>\n",
       "      <td>-0.084189</td>\n",
       "      <td>1.000000</td>\n",
       "      <td>0.044123</td>\n",
       "      <td>-0.070733</td>\n",
       "      <td>-0.058770</td>\n",
       "      <td>0.093045</td>\n",
       "      <td>-0.072042</td>\n",
       "      <td>-0.011981</td>\n",
       "      <td>0.137230</td>\n",
       "    </tr>\n",
       "    <tr>\n",
       "      <th>thalach</th>\n",
       "      <td>-0.398522</td>\n",
       "      <td>-0.044020</td>\n",
       "      <td>0.295762</td>\n",
       "      <td>-0.046698</td>\n",
       "      <td>-0.009940</td>\n",
       "      <td>-0.008567</td>\n",
       "      <td>0.044123</td>\n",
       "      <td>1.000000</td>\n",
       "      <td>-0.378812</td>\n",
       "      <td>-0.344187</td>\n",
       "      <td>0.386784</td>\n",
       "      <td>-0.213177</td>\n",
       "      <td>-0.096439</td>\n",
       "      <td>0.421741</td>\n",
       "    </tr>\n",
       "    <tr>\n",
       "      <th>exang</th>\n",
       "      <td>0.096801</td>\n",
       "      <td>0.141664</td>\n",
       "      <td>-0.394280</td>\n",
       "      <td>0.067616</td>\n",
       "      <td>0.067023</td>\n",
       "      <td>0.025665</td>\n",
       "      <td>-0.070733</td>\n",
       "      <td>-0.378812</td>\n",
       "      <td>1.000000</td>\n",
       "      <td>0.288223</td>\n",
       "      <td>-0.257748</td>\n",
       "      <td>0.115739</td>\n",
       "      <td>0.206754</td>\n",
       "      <td>-0.436757</td>\n",
       "    </tr>\n",
       "    <tr>\n",
       "      <th>oldpeak</th>\n",
       "      <td>0.210013</td>\n",
       "      <td>0.096093</td>\n",
       "      <td>-0.149230</td>\n",
       "      <td>0.193216</td>\n",
       "      <td>0.053952</td>\n",
       "      <td>0.005747</td>\n",
       "      <td>-0.058770</td>\n",
       "      <td>-0.344187</td>\n",
       "      <td>0.288223</td>\n",
       "      <td>1.000000</td>\n",
       "      <td>-0.577537</td>\n",
       "      <td>0.222682</td>\n",
       "      <td>0.210244</td>\n",
       "      <td>-0.430696</td>\n",
       "    </tr>\n",
       "    <tr>\n",
       "      <th>slope</th>\n",
       "      <td>-0.168814</td>\n",
       "      <td>-0.030711</td>\n",
       "      <td>0.119717</td>\n",
       "      <td>-0.121475</td>\n",
       "      <td>-0.004038</td>\n",
       "      <td>-0.059894</td>\n",
       "      <td>0.093045</td>\n",
       "      <td>0.386784</td>\n",
       "      <td>-0.257748</td>\n",
       "      <td>-0.577537</td>\n",
       "      <td>1.000000</td>\n",
       "      <td>-0.080155</td>\n",
       "      <td>-0.104764</td>\n",
       "      <td>0.345877</td>\n",
       "    </tr>\n",
       "    <tr>\n",
       "      <th>ca</th>\n",
       "      <td>0.276326</td>\n",
       "      <td>0.118261</td>\n",
       "      <td>-0.181053</td>\n",
       "      <td>0.101389</td>\n",
       "      <td>0.070511</td>\n",
       "      <td>0.137979</td>\n",
       "      <td>-0.072042</td>\n",
       "      <td>-0.213177</td>\n",
       "      <td>0.115739</td>\n",
       "      <td>0.222682</td>\n",
       "      <td>-0.080155</td>\n",
       "      <td>1.000000</td>\n",
       "      <td>0.151832</td>\n",
       "      <td>-0.391724</td>\n",
       "    </tr>\n",
       "    <tr>\n",
       "      <th>thal</th>\n",
       "      <td>0.068001</td>\n",
       "      <td>0.210041</td>\n",
       "      <td>-0.161736</td>\n",
       "      <td>0.062210</td>\n",
       "      <td>0.098803</td>\n",
       "      <td>-0.032019</td>\n",
       "      <td>-0.011981</td>\n",
       "      <td>-0.096439</td>\n",
       "      <td>0.206754</td>\n",
       "      <td>0.210244</td>\n",
       "      <td>-0.104764</td>\n",
       "      <td>0.151832</td>\n",
       "      <td>1.000000</td>\n",
       "      <td>-0.344029</td>\n",
       "    </tr>\n",
       "    <tr>\n",
       "      <th>target</th>\n",
       "      <td>-0.225439</td>\n",
       "      <td>-0.280937</td>\n",
       "      <td>0.433798</td>\n",
       "      <td>-0.144931</td>\n",
       "      <td>-0.085239</td>\n",
       "      <td>-0.028046</td>\n",
       "      <td>0.137230</td>\n",
       "      <td>0.421741</td>\n",
       "      <td>-0.436757</td>\n",
       "      <td>-0.430696</td>\n",
       "      <td>0.345877</td>\n",
       "      <td>-0.391724</td>\n",
       "      <td>-0.344029</td>\n",
       "      <td>1.000000</td>\n",
       "    </tr>\n",
       "  </tbody>\n",
       "</table>\n",
       "</div>"
      ],
      "text/plain": [
       "               age       sex        cp  trestbps      chol       fbs  \\\n",
       "age       1.000000 -0.098447 -0.068653  0.279351  0.213678  0.121308   \n",
       "sex      -0.098447  1.000000 -0.049353 -0.056769 -0.197912  0.045032   \n",
       "cp       -0.068653 -0.049353  1.000000  0.047608 -0.076904  0.094444   \n",
       "trestbps  0.279351 -0.056769  0.047608  1.000000  0.123174  0.177531   \n",
       "chol      0.213678 -0.197912 -0.076904  0.123174  1.000000  0.013294   \n",
       "fbs       0.121308  0.045032  0.094444  0.177531  0.013294  1.000000   \n",
       "restecg  -0.116211 -0.058196  0.044421 -0.114103 -0.151040 -0.084189   \n",
       "thalach  -0.398522 -0.044020  0.295762 -0.046698 -0.009940 -0.008567   \n",
       "exang     0.096801  0.141664 -0.394280  0.067616  0.067023  0.025665   \n",
       "oldpeak   0.210013  0.096093 -0.149230  0.193216  0.053952  0.005747   \n",
       "slope    -0.168814 -0.030711  0.119717 -0.121475 -0.004038 -0.059894   \n",
       "ca        0.276326  0.118261 -0.181053  0.101389  0.070511  0.137979   \n",
       "thal      0.068001  0.210041 -0.161736  0.062210  0.098803 -0.032019   \n",
       "target   -0.225439 -0.280937  0.433798 -0.144931 -0.085239 -0.028046   \n",
       "\n",
       "           restecg   thalach     exang   oldpeak     slope        ca  \\\n",
       "age      -0.116211 -0.398522  0.096801  0.210013 -0.168814  0.276326   \n",
       "sex      -0.058196 -0.044020  0.141664  0.096093 -0.030711  0.118261   \n",
       "cp        0.044421  0.295762 -0.394280 -0.149230  0.119717 -0.181053   \n",
       "trestbps -0.114103 -0.046698  0.067616  0.193216 -0.121475  0.101389   \n",
       "chol     -0.151040 -0.009940  0.067023  0.053952 -0.004038  0.070511   \n",
       "fbs      -0.084189 -0.008567  0.025665  0.005747 -0.059894  0.137979   \n",
       "restecg   1.000000  0.044123 -0.070733 -0.058770  0.093045 -0.072042   \n",
       "thalach   0.044123  1.000000 -0.378812 -0.344187  0.386784 -0.213177   \n",
       "exang    -0.070733 -0.378812  1.000000  0.288223 -0.257748  0.115739   \n",
       "oldpeak  -0.058770 -0.344187  0.288223  1.000000 -0.577537  0.222682   \n",
       "slope     0.093045  0.386784 -0.257748 -0.577537  1.000000 -0.080155   \n",
       "ca       -0.072042 -0.213177  0.115739  0.222682 -0.080155  1.000000   \n",
       "thal     -0.011981 -0.096439  0.206754  0.210244 -0.104764  0.151832   \n",
       "target    0.137230  0.421741 -0.436757 -0.430696  0.345877 -0.391724   \n",
       "\n",
       "              thal    target  \n",
       "age       0.068001 -0.225439  \n",
       "sex       0.210041 -0.280937  \n",
       "cp       -0.161736  0.433798  \n",
       "trestbps  0.062210 -0.144931  \n",
       "chol      0.098803 -0.085239  \n",
       "fbs      -0.032019 -0.028046  \n",
       "restecg  -0.011981  0.137230  \n",
       "thalach  -0.096439  0.421741  \n",
       "exang     0.206754 -0.436757  \n",
       "oldpeak   0.210244 -0.430696  \n",
       "slope    -0.104764  0.345877  \n",
       "ca        0.151832 -0.391724  \n",
       "thal      1.000000 -0.344029  \n",
       "target   -0.344029  1.000000  "
      ]
     },
     "execution_count": 6,
     "metadata": {},
     "output_type": "execute_result"
    }
   ],
   "source": [
    "data.corr()"
   ]
  },
  {
   "cell_type": "code",
   "execution_count": 7,
   "metadata": {},
   "outputs": [
    {
     "data": {
      "text/plain": [
       "<matplotlib.axes._subplots.AxesSubplot at 0xdd23c10>"
      ]
     },
     "execution_count": 7,
     "metadata": {},
     "output_type": "execute_result"
    },
    {
     "data": {
      "image/png": "[encoded data removed]",
      "text/plain": [
       "<Figure size 432x288 with 2 Axes>"
      ]
     },
     "metadata": {},
     "output_type": "display_data"
    }
   ],
   "source": [
    "sns.heatmap(data.corr())"
   ]
  },
  {
   "cell_type": "markdown",
   "metadata": {},
   "source": [
    "Основываясь на корреляционном анализе, можно сделать вывод:\n",
    "   * Целевой признак больше всего коррелирует с \"cp\", \"exang\", \"oldpeak\" и \"ca\". Их точно нужно оставить в модели."
   ]
  },
  {
   "cell_type": "markdown",
   "metadata": {},
   "source": [
    "### 2. Разделение выборки на обучающую и тестовую"
   ]
  },
  {
   "cell_type": "code",
   "execution_count": 119,
   "metadata": {},
   "outputs": [],
   "source": [
    "# выбор нужных столбцов\n",
    "X = data[['cp','exang','oldpeak', 'ca']]\n",
    "y = data.target\n",
    "heart_X_train, heart_X_test, heart_y_train, heart_y_test = train_test_split(X, y, test_size=0.3, random_state=1)"
   ]
  },
  {
   "cell_type": "code",
   "execution_count": 120,
   "metadata": {},
   "outputs": [
    {
     "data": {
      "text/plain": [
       "array([[ 1.99223435,  1.43960542,  0.35630932,  0.29558577],\n",
       "       [-0.94758246, -0.69463478, -0.93178576,  0.29558577],\n",
       "       [-0.94758246,  1.43960542,  1.09236365,  0.29558577],\n",
       "       [ 1.99223435, -0.69463478, -0.10372464, -0.6990838 ],\n",
       "       [-0.94758246,  1.43960542, -0.19573143, -0.6990838 ],\n",
       "       [ 1.01229541, -0.69463478,  1.09236365,  0.29558577],\n",
       "       [-0.94758246,  1.43960542, -0.83977897,  0.29558577],\n",
       "       [ 1.99223435, -0.69463478,  0.72433649,  1.29025534],\n",
       "       [ 1.99223435, -0.69463478, -0.01171785, -0.6990838 ],\n",
       "       [-0.94758246,  1.43960542, -0.93178576, -0.6990838 ],\n",
       "       [-0.94758246,  1.43960542,  4.22059457, -0.6990838 ],\n",
       "       [ 0.03235647, -0.69463478,  0.72433649, -0.6990838 ],\n",
       "       [ 1.01229541, -0.69463478, -0.93178576, -0.6990838 ],\n",
       "       [-0.94758246,  1.43960542,  1.92042478, -0.6990838 ],\n",
       "       [ 0.03235647, -0.69463478, -0.5637586 ,  3.27959448],\n",
       "       [ 0.03235647, -0.69463478, -0.01171785, -0.6990838 ],\n",
       "       [-0.94758246,  1.43960542,  0.90835007,  1.29025534],\n",
       "       [ 0.03235647, -0.69463478, -0.74777218, -0.6990838 ],\n",
       "       [ 1.01229541,  1.43960542, -0.37974501, -0.6990838 ],\n",
       "       [ 1.99223435, -0.69463478, -0.19573143,  1.29025534],\n",
       "       [ 0.03235647, -0.69463478, -0.93178576,  0.29558577],\n",
       "       [ 1.01229541, -0.69463478, -0.93178576,  3.27959448],\n",
       "       [ 1.99223435, -0.69463478,  0.81634328, -0.6990838 ],\n",
       "       [-0.94758246,  1.43960542,  2.93249949,  2.28492491],\n",
       "       [ 1.01229541, -0.69463478, -0.93178576,  2.28492491],\n",
       "       [-0.94758246, -0.69463478, -0.93178576,  0.29558577],\n",
       "       [ 1.01229541, -0.69463478, -0.4717518 , -0.6990838 ],\n",
       "       [-0.94758246,  1.43960542,  1.09236365,  0.29558577],\n",
       "       [-0.94758246,  1.43960542,  0.35630932,  0.29558577],\n",
       "       [ 1.01229541, -0.69463478,  1.82841799, -0.6990838 ],\n",
       "       [-0.94758246, -0.69463478, -0.5637586 , -0.6990838 ],\n",
       "       [-0.94758246,  1.43960542,  0.90835007, -0.6990838 ],\n",
       "       [ 0.03235647, -0.69463478, -0.19573143,  0.29558577],\n",
       "       [ 1.01229541, -0.69463478, -0.19573143,  0.29558577],\n",
       "       [-0.94758246, -0.69463478,  0.90835007,  1.29025534],\n",
       "       [ 1.01229541, -0.69463478,  2.01243157,  1.29025534],\n",
       "       [ 1.01229541, -0.69463478, -0.93178576, -0.6990838 ],\n",
       "       [-0.94758246, -0.69463478, -0.4717518 , -0.6990838 ],\n",
       "       [ 1.01229541, -0.69463478, -0.4717518 ,  0.29558577],\n",
       "       [ 1.01229541,  1.43960542,  0.35630932, -0.6990838 ],\n",
       "       [ 0.03235647, -0.69463478, -0.65576539, -0.6990838 ],\n",
       "       [ 0.03235647, -0.69463478, -0.93178576, -0.6990838 ],\n",
       "       [ 1.99223435, -0.69463478,  0.35630932,  0.29558577],\n",
       "       [-0.94758246,  1.43960542, -0.10372464,  1.29025534],\n",
       "       [ 1.01229541,  1.43960542,  0.17229574, -0.6990838 ],\n",
       "       [-0.94758246,  1.43960542,  0.35630932, -0.6990838 ],\n",
       "       [-0.94758246,  1.43960542, -0.74777218,  0.29558577],\n",
       "       [ 1.01229541, -0.69463478, -0.19573143, -0.6990838 ],\n",
       "       [-0.94758246,  1.43960542,  1.6444044 ,  0.29558577],\n",
       "       [ 1.01229541, -0.69463478, -0.93178576, -0.6990838 ],\n",
       "       [-0.94758246,  1.43960542,  1.46039082, -0.6990838 ],\n",
       "       [-0.94758246,  1.43960542,  2.38045874,  0.29558577],\n",
       "       [ 1.01229541, -0.69463478,  0.44831611,  0.29558577],\n",
       "       [ 1.01229541,  1.43960542, -0.5637586 , -0.6990838 ],\n",
       "       [ 1.99223435, -0.69463478,  2.93249949, -0.6990838 ],\n",
       "       [-0.94758246, -0.69463478, -0.93178576, -0.6990838 ],\n",
       "       [ 1.01229541, -0.69463478, -0.37974501, -0.6990838 ],\n",
       "       [ 0.03235647, -0.69463478, -0.93178576, -0.6990838 ],\n",
       "       [ 1.99223435,  1.43960542,  0.35630932, -0.6990838 ],\n",
       "       [-0.94758246,  1.43960542, -0.93178576,  2.28492491],\n",
       "       [ 0.03235647, -0.69463478, -0.93178576, -0.6990838 ],\n",
       "       [-0.94758246, -0.69463478,  1.46039082,  1.29025534],\n",
       "       [ 1.01229541, -0.69463478,  0.90835007, -0.6990838 ],\n",
       "       [-0.94758246,  1.43960542,  1.00035686,  0.29558577],\n",
       "       [ 1.01229541, -0.69463478, -0.93178576, -0.6990838 ],\n",
       "       [-0.94758246, -0.69463478, -0.93178576,  1.29025534],\n",
       "       [ 0.03235647, -0.69463478,  0.17229574, -0.6990838 ],\n",
       "       [-0.94758246,  1.43960542,  0.17229574,  0.29558577],\n",
       "       [-0.94758246, -0.69463478, -0.93178576, -0.6990838 ],\n",
       "       [ 0.03235647, -0.69463478, -0.93178576, -0.6990838 ],\n",
       "       [-0.94758246,  1.43960542,  0.35630932,  1.29025534],\n",
       "       [ 1.01229541, -0.69463478, -0.93178576, -0.6990838 ],\n",
       "       [-0.94758246, -0.69463478, -0.37974501, -0.6990838 ],\n",
       "       [-0.94758246, -0.69463478, -0.01171785,  2.28492491],\n",
       "       [ 0.03235647, -0.69463478, -0.93178576, -0.6990838 ],\n",
       "       [-0.94758246,  1.43960542, -0.01171785,  0.29558577],\n",
       "       [-0.94758246,  1.43960542,  1.82841799,  1.29025534],\n",
       "       [ 0.03235647, -0.69463478, -0.93178576, -0.6990838 ],\n",
       "       [-0.94758246,  1.43960542,  0.17229574,  0.29558577],\n",
       "       [ 0.03235647, -0.69463478, -0.93178576, -0.6990838 ],\n",
       "       [-0.94758246, -0.69463478, -0.01171785,  1.29025534],\n",
       "       [-0.94758246,  1.43960542,  0.72433649,  1.29025534],\n",
       "       [ 1.01229541, -0.69463478, -0.93178576, -0.6990838 ],\n",
       "       [-0.94758246, -0.69463478, -0.19573143, -0.6990838 ],\n",
       "       [-0.94758246,  1.43960542,  0.5403229 , -0.6990838 ],\n",
       "       [-0.94758246,  1.43960542,  0.72433649,  2.28492491],\n",
       "       [ 1.01229541, -0.69463478, -0.5637586 ,  0.29558577],\n",
       "       [ 1.01229541, -0.69463478,  0.81634328,  0.29558577],\n",
       "       [-0.94758246, -0.69463478,  1.6444044 ,  0.29558577],\n",
       "       [ 1.01229541, -0.69463478, -0.93178576,  0.29558577],\n",
       "       [-0.94758246, -0.69463478, -0.83977897,  2.28492491],\n",
       "       [-0.94758246, -0.69463478, -0.83977897,  0.29558577],\n",
       "       [ 1.01229541, -0.69463478, -0.93178576,  0.29558577],\n",
       "       [-0.94758246,  1.43960542, -0.19573143,  0.29558577],\n",
       "       [ 1.01229541, -0.69463478, -0.93178576,  0.29558577],\n",
       "       [ 0.03235647, -0.69463478, -0.93178576, -0.6990838 ],\n",
       "       [ 1.01229541, -0.69463478, -0.37974501, -0.6990838 ],\n",
       "       [ 1.01229541, -0.69463478, -0.93178576, -0.6990838 ],\n",
       "       [ 1.01229541, -0.69463478, -0.93178576, -0.6990838 ],\n",
       "       [ 1.99223435, -0.69463478, -0.37974501, -0.6990838 ],\n",
       "       [-0.94758246, -0.69463478, -0.01171785, -0.6990838 ],\n",
       "       [-0.94758246, -0.69463478, -0.93178576, -0.6990838 ],\n",
       "       [ 0.03235647, -0.69463478, -0.93178576, -0.6990838 ],\n",
       "       [ 1.01229541, -0.69463478, -0.93178576, -0.6990838 ],\n",
       "       [-0.94758246,  1.43960542, -0.93178576, -0.6990838 ],\n",
       "       [ 1.01229541,  1.43960542,  1.73641119,  0.29558577],\n",
       "       [ 1.99223435,  1.43960542,  0.72433649, -0.6990838 ],\n",
       "       [-0.94758246, -0.69463478,  0.17229574, -0.6990838 ],\n",
       "       [-0.94758246,  1.43960542,  0.81634328,  1.29025534],\n",
       "       [-0.94758246, -0.69463478, -0.93178576,  0.29558577],\n",
       "       [ 0.03235647, -0.69463478, -0.74777218, -0.6990838 ],\n",
       "       [-0.94758246, -0.69463478,  0.17229574, -0.6990838 ],\n",
       "       [ 1.01229541, -0.69463478, -0.19573143, -0.6990838 ],\n",
       "       [ 1.01229541, -0.69463478, -0.93178576, -0.6990838 ],\n",
       "       [ 1.99223435, -0.69463478,  1.46039082,  1.29025534],\n",
       "       [-0.94758246, -0.69463478, -0.4717518 , -0.6990838 ],\n",
       "       [ 1.01229541, -0.69463478, -0.19573143,  2.28492491],\n",
       "       [-0.94758246,  1.43960542,  0.81634328,  0.29558577],\n",
       "       [ 0.03235647, -0.69463478,  0.35630932, -0.6990838 ],\n",
       "       [-0.94758246, -0.69463478, -0.93178576,  0.29558577],\n",
       "       [-0.94758246,  1.43960542,  1.6444044 ,  0.29558577],\n",
       "       [-0.94758246,  1.43960542,  0.72433649, -0.6990838 ],\n",
       "       [-0.94758246,  1.43960542, -0.74777218, -0.6990838 ],\n",
       "       [ 1.01229541, -0.69463478, -0.93178576, -0.6990838 ],\n",
       "       [-0.94758246,  1.43960542,  2.19644515, -0.6990838 ],\n",
       "       [ 0.03235647, -0.69463478,  0.35630932, -0.6990838 ],\n",
       "       [-0.94758246,  1.43960542,  0.72433649,  1.29025534],\n",
       "       [-0.94758246,  1.43960542, -0.01171785, -0.6990838 ],\n",
       "       [ 1.01229541, -0.69463478,  0.72433649,  2.28492491],\n",
       "       [ 0.03235647, -0.69463478,  0.26430253, -0.6990838 ],\n",
       "       [-0.94758246,  1.43960542, -0.93178576,  0.29558577],\n",
       "       [ 1.01229541, -0.69463478, -0.83977897, -0.6990838 ],\n",
       "       [-0.94758246,  1.43960542,  2.01243157,  1.29025534],\n",
       "       [ 0.03235647,  1.43960542, -0.93178576, -0.6990838 ],\n",
       "       [-0.94758246, -0.69463478, -0.93178576, -0.6990838 ],\n",
       "       [-0.94758246, -0.69463478,  0.35630932, -0.6990838 ],\n",
       "       [ 1.01229541, -0.69463478,  1.36838403,  0.29558577],\n",
       "       [-0.94758246, -0.69463478,  0.5403229 , -0.6990838 ],\n",
       "       [-0.94758246, -0.69463478, -0.01171785,  1.29025534],\n",
       "       [ 0.03235647, -0.69463478, -0.93178576, -0.6990838 ],\n",
       "       [ 1.01229541, -0.69463478, -0.93178576, -0.6990838 ],\n",
       "       [-0.94758246,  1.43960542,  0.17229574, -0.6990838 ],\n",
       "       [ 1.01229541, -0.69463478, -0.74777218, -0.6990838 ],\n",
       "       [ 1.01229541, -0.69463478, -0.93178576,  3.27959448],\n",
       "       [-0.94758246, -0.69463478, -0.37974501,  1.29025534],\n",
       "       [-0.94758246,  1.43960542, -0.01171785,  1.29025534],\n",
       "       [ 0.03235647, -0.69463478, -0.93178576, -0.6990838 ],\n",
       "       [-0.94758246, -0.69463478, -0.65576539,  1.29025534],\n",
       "       [-0.94758246,  1.43960542, -0.83977897,  3.27959448],\n",
       "       [-0.94758246, -0.69463478,  0.17229574, -0.6990838 ],\n",
       "       [ 0.03235647, -0.69463478, -0.93178576, -0.6990838 ],\n",
       "       [ 0.03235647, -0.69463478, -0.93178576, -0.6990838 ],\n",
       "       [ 1.01229541, -0.69463478, -0.93178576, -0.6990838 ],\n",
       "       [-0.94758246,  1.43960542,  1.46039082,  1.29025534],\n",
       "       [ 1.99223435, -0.69463478,  0.17229574, -0.6990838 ],\n",
       "       [-0.94758246, -0.69463478, -0.93178576, -0.6990838 ],\n",
       "       [-0.94758246,  1.43960542,  0.44831611,  2.28492491],\n",
       "       [-0.94758246, -0.69463478, -0.37974501, -0.6990838 ],\n",
       "       [ 1.99223435, -0.69463478, -0.19573143,  1.29025534],\n",
       "       [ 0.03235647, -0.69463478, -0.28773822, -0.6990838 ],\n",
       "       [ 1.01229541,  1.43960542, -0.01171785, -0.6990838 ],\n",
       "       [-0.94758246, -0.69463478, -0.83977897, -0.6990838 ],\n",
       "       [-0.94758246, -0.69463478, -0.01171785,  2.28492491],\n",
       "       [-0.94758246,  1.43960542,  2.19644515, -0.6990838 ],\n",
       "       [ 1.01229541, -0.69463478,  0.5403229 , -0.6990838 ],\n",
       "       [-0.94758246,  1.43960542,  2.38045874,  0.29558577],\n",
       "       [ 1.01229541, -0.69463478, -0.93178576, -0.6990838 ],\n",
       "       [ 1.01229541, -0.69463478, -0.93178576,  0.29558577],\n",
       "       [ 0.03235647, -0.69463478,  0.35630932,  0.29558577],\n",
       "       [ 0.03235647, -0.69463478, -0.5637586 ,  1.29025534],\n",
       "       [ 1.01229541, -0.69463478,  2.38045874, -0.6990838 ],\n",
       "       [ 1.01229541, -0.69463478, -0.93178576, -0.6990838 ],\n",
       "       [ 1.01229541, -0.69463478,  0.5403229 , -0.6990838 ],\n",
       "       [-0.94758246, -0.69463478, -0.93178576, -0.6990838 ],\n",
       "       [ 1.01229541, -0.69463478,  0.5403229 , -0.6990838 ],\n",
       "       [ 1.01229541, -0.69463478,  1.27637724, -0.6990838 ],\n",
       "       [-0.94758246, -0.69463478, -0.5637586 , -0.6990838 ],\n",
       "       [ 0.03235647, -0.69463478, -0.19573143, -0.6990838 ],\n",
       "       [-0.94758246, -0.69463478, -0.93178576, -0.6990838 ],\n",
       "       [-0.94758246,  1.43960542,  1.6444044 , -0.6990838 ],\n",
       "       [ 0.03235647, -0.69463478, -0.93178576,  0.29558577],\n",
       "       [-0.94758246, -0.69463478, -0.93178576, -0.6990838 ],\n",
       "       [ 1.01229541, -0.69463478, -0.93178576, -0.6990838 ],\n",
       "       [-0.94758246,  1.43960542,  1.6444044 ,  1.29025534],\n",
       "       [ 1.01229541, -0.69463478,  0.17229574,  0.29558577],\n",
       "       [-0.94758246,  1.43960542, -0.93178576,  0.29558577],\n",
       "       [-0.94758246,  1.43960542, -0.93178576,  0.29558577],\n",
       "       [ 1.01229541, -0.69463478,  2.28845194, -0.6990838 ],\n",
       "       [-0.94758246, -0.69463478, -0.93178576, -0.6990838 ],\n",
       "       [ 0.03235647, -0.69463478, -0.93178576, -0.6990838 ],\n",
       "       [-0.94758246, -0.69463478,  0.17229574, -0.6990838 ],\n",
       "       [ 1.01229541, -0.69463478, -0.01171785,  0.29558577],\n",
       "       [-0.94758246,  1.43960542, -0.93178576, -0.6990838 ],\n",
       "       [-0.94758246,  1.43960542,  1.82841799, -0.6990838 ],\n",
       "       [ 0.03235647, -0.69463478, -0.93178576, -0.6990838 ],\n",
       "       [ 1.01229541, -0.69463478, -0.4717518 , -0.6990838 ],\n",
       "       [ 1.01229541, -0.69463478, -0.93178576, -0.6990838 ],\n",
       "       [-0.94758246, -0.69463478,  0.81634328,  2.28492491],\n",
       "       [ 1.99223435, -0.69463478, -0.93178576, -0.6990838 ],\n",
       "       [-0.94758246, -0.69463478,  0.90835007,  0.29558577],\n",
       "       [-0.94758246,  1.43960542,  1.36838403, -0.6990838 ],\n",
       "       [-0.94758246,  1.43960542, -0.01171785, -0.6990838 ],\n",
       "       [-0.94758246, -0.69463478,  0.17229574,  1.29025534],\n",
       "       [ 1.01229541,  1.43960542, -0.93178576,  0.29558577],\n",
       "       [ 0.03235647,  1.43960542, -0.74777218,  0.29558577],\n",
       "       [ 1.01229541, -0.69463478,  0.08028895, -0.6990838 ],\n",
       "       [ 0.03235647, -0.69463478, -0.93178576, -0.6990838 ],\n",
       "       [ 1.01229541,  1.43960542,  0.5403229 , -0.6990838 ],\n",
       "       [-0.94758246,  1.43960542, -0.93178576,  2.28492491],\n",
       "       [ 0.03235647, -0.69463478, -0.93178576, -0.6990838 ],\n",
       "       [-0.94758246,  1.43960542,  0.5403229 , -0.6990838 ],\n",
       "       [ 1.01229541, -0.69463478,  0.5403229 , -0.6990838 ]])"
      ]
     },
     "execution_count": 120,
     "metadata": {},
     "output_type": "execute_result"
    }
   ],
   "source": [
    "# нормализация столбцов X\n",
    "sc = StandardScaler()\n",
    "heart_X_train = sc.fit_transform(heart_X_train)\n",
    "heart_X_test = sc.fit_transform(heart_X_test)\n",
    "heart_X_train"
   ]
  },
  {
   "cell_type": "code",
   "execution_count": 121,
   "metadata": {},
   "outputs": [
    {
     "data": {
      "image/png": "[encoded data removed]",
      "text/plain": [
       "<Figure size 432x288 with 1 Axes>"
      ]
     },
     "metadata": {},
     "output_type": "display_data"
    }
   ],
   "source": [
    "# визуализация выборки\n",
    "plt.plot(heart_X_train,'r.', \\\n",
    "        heart_X_test, 'b.')\n",
    "plt.show()"
   ]
  },
  {
   "cell_type": "markdown",
   "metadata": {},
   "source": [
    "### 3. Обучение модели ближайших соседей для произвольно заданного гиперпараметра K. Оценка качества модели с помощью подходящих для задачи метрик."
   ]
  },
  {
   "cell_type": "code",
   "execution_count": 122,
   "metadata": {},
   "outputs": [
    {
     "data": {
      "text/plain": [
       "(0.8113207547169812, 0.7032967032967034)"
      ]
     },
     "execution_count": 122,
     "metadata": {},
     "output_type": "execute_result"
    }
   ],
   "source": [
    "# Первичное обучение модели и оценка качества\n",
    "# 50 ближайших соседей - недообучение\n",
    "cl1_1 = KNeighborsClassifier(n_neighbors=50)\n",
    "cl1_1.fit(heart_X_train, heart_y_train)\n",
    "target1_0 = cl1_1.predict(heart_X_train)\n",
    "target1_1 = cl1_1.predict(heart_X_test)\n",
    "accuracy_score(heart_y_train, target1_0), accuracy_score(heart_y_test, target1_1)"
   ]
  },
  {
   "cell_type": "code",
   "execution_count": 142,
   "metadata": {},
   "outputs": [
    {
     "data": {
      "text/plain": [
       "(0.8160377358490566, 0.7582417582417582)"
      ]
     },
     "execution_count": 142,
     "metadata": {},
     "output_type": "execute_result"
    }
   ],
   "source": [
    "# 24 ближайших соседа (приближаемся к балансу между смещением и дисперсией)\n",
    "cl1_2 = KNeighborsClassifier(n_neighbors=24)\n",
    "cl1_2.fit(heart_X_train, heart_y_train)\n",
    "target1_0 = cl1_2.predict(heart_X_train)\n",
    "target1_1 = cl1_2.predict(heart_X_test)\n",
    "accuracy_score(heart_y_train, target1_0), accuracy_score(heart_y_test, target1_1)"
   ]
  },
  {
   "cell_type": "code",
   "execution_count": 143,
   "metadata": {},
   "outputs": [
    {
     "data": {
      "text/plain": [
       "(0.9575471698113207, 0.6923076923076923)"
      ]
     },
     "execution_count": 143,
     "metadata": {},
     "output_type": "execute_result"
    }
   ],
   "source": [
    "# 1 ближайший сосед - переобучение\n",
    "cl1_3 = KNeighborsClassifier(n_neighbors=1)\n",
    "cl1_3.fit(heart_X_train, heart_y_train)\n",
    "target1_0 = cl1_3.predict(heart_X_train)\n",
    "target1_1 = cl1_3.predict(heart_X_test)\n",
    "accuracy_score(heart_y_train, target1_0), accuracy_score(heart_y_test, target1_1)"
   ]
  },
  {
   "cell_type": "markdown",
   "metadata": {},
   "source": [
    "### 4. Построение модели и оценка качества модели с использованием кросс-валидации."
   ]
  },
  {
   "cell_type": "code",
   "execution_count": 144,
   "metadata": {},
   "outputs": [
    {
     "data": {
      "text/plain": [
       "(array([1., 0., 1., 1., 0., 1., 1., 1., 1., 1., 1., 1., 1., 1., 1., 1., 1.,\n",
       "        1., 1., 0., 1., 1., 1., 1., 1., 0., 1., 1., 1., 1., 1., 1., 1., 1.,\n",
       "        1., 1., 1., 1., 1., 1., 0., 1., 0., 1., 1., 1., 1., 1., 1., 1., 1.,\n",
       "        1., 0., 1., 1., 1., 1., 1., 1., 0., 1., 1., 1., 1., 1., 1., 1., 1.,\n",
       "        1., 1., 1., 1., 1., 1., 1., 1., 1., 1., 1., 1., 1., 1., 1., 1., 1.,\n",
       "        1., 1., 1., 1., 1., 1., 1., 1., 0., 1., 1., 1., 0., 1., 1., 1., 0.,\n",
       "        0., 1., 1., 1., 1., 1., 1., 1., 1., 1., 1., 1., 1., 1., 1., 1., 1.,\n",
       "        1., 0., 1., 1., 1., 1., 1., 1., 1., 1., 0., 1., 1., 1., 1., 1., 1.,\n",
       "        1., 1., 0., 0., 1., 1., 1., 0., 1., 1., 1., 1., 1., 1., 0., 1., 1.,\n",
       "        1., 1., 1., 1., 1., 0., 1., 1., 1., 1., 1., 1., 1., 1., 1., 1., 1.,\n",
       "        0., 0., 0., 1., 1., 1., 1., 0., 1., 1., 1., 1., 0., 1., 1., 1., 1.,\n",
       "        1., 0., 0., 1., 1., 1., 1., 0., 1., 0., 1., 1., 1., 1., 1., 1., 0.,\n",
       "        1., 1., 1., 1., 1., 1., 0., 1., 0., 1., 1., 1., 0., 1., 1., 1., 1.,\n",
       "        1., 0., 1., 1., 1., 0., 1., 0., 0., 0., 1., 1., 1., 1., 1., 1., 1.,\n",
       "        1., 0., 1., 0., 1., 1., 1., 0., 1., 1., 0., 1., 1., 1., 1., 1., 0.,\n",
       "        1., 1., 1., 1., 0., 1., 1., 1., 1., 1., 1., 1., 0., 1., 1., 0., 1.,\n",
       "        0., 1., 1., 1., 1., 0., 1., 1., 1., 1., 0., 0., 1., 1., 0., 0., 1.,\n",
       "        1., 1., 1., 1., 0., 1., 1., 0., 1., 0., 0., 1., 1., 0.]),\n",
       " 0.8151815181518152)"
      ]
     },
     "execution_count": 144,
     "metadata": {},
     "output_type": "execute_result"
    }
   ],
   "source": [
    "scores = cross_val_score(KNeighborsClassifier(n_neighbors=10), \n",
    "                         X, y, \n",
    "                         cv=LeaveOneOut())\n",
    "scores, np.mean(scores)"
   ]
  },
  {
   "cell_type": "code",
   "execution_count": 145,
   "metadata": {},
   "outputs": [
    {
     "data": {
      "text/plain": [
       "(array([0.82017436, 0.81202965, 0.80019373]), 0.8107992468636055)"
      ]
     },
     "execution_count": 145,
     "metadata": {},
     "output_type": "execute_result"
    }
   ],
   "source": [
    "# использование метрики f1\n",
    "scores = cross_val_score(KNeighborsClassifier(n_neighbors=10), \n",
    "                         X, y, cv=3,\n",
    "                        scoring='f1_weighted')\n",
    "scores, np.mean(scores)"
   ]
  },
  {
   "cell_type": "markdown",
   "metadata": {},
   "source": [
    "Использование метода cross_validate:"
   ]
  },
  {
   "cell_type": "code",
   "execution_count": 146,
   "metadata": {},
   "outputs": [],
   "source": [
    "scoring = {'precision': 'precision_weighted', \n",
    "           'recall': 'recall_weighted',\n",
    "           'f1': 'f1_weighted'}"
   ]
  },
  {
   "cell_type": "code",
   "execution_count": 147,
   "metadata": {},
   "outputs": [
    {
     "data": {
      "text/plain": [
       "{'fit_time': array([0.00300622, 0.00299311, 0.00299215]),\n",
       " 'score_time': array([0.00896335, 0.00897408, 0.00797868]),\n",
       " 'test_precision': array([0.69609461, 0.74440183, 0.81166902]),\n",
       " 'train_precision': array([0.87622058, 0.89776878, 0.86876427]),\n",
       " 'test_recall': array([0.68316832, 0.73267327, 0.81188119]),\n",
       " 'train_recall': array([0.86633663, 0.89108911, 0.85643564]),\n",
       " 'test_f1': array([0.6828577 , 0.73267327, 0.81169495]),\n",
       " 'train_f1': array([0.86648407, 0.89128146, 0.85649546])}"
      ]
     },
     "execution_count": 147,
     "metadata": {},
     "output_type": "execute_result"
    }
   ],
   "source": [
    "scores = cross_validate(KNeighborsClassifier(n_neighbors=2), \n",
    "                        X, y, scoring=scoring, \n",
    "                        cv=3, return_train_score=True)\n",
    "scores"
   ]
  },
  {
   "cell_type": "markdown",
   "metadata": {},
   "source": [
    "### 5. Подбор гиперпараметра K с использованием GridSearchCV и кросс-валидации."
   ]
  },
  {
   "cell_type": "code",
   "execution_count": 148,
   "metadata": {},
   "outputs": [
    {
     "data": {
      "text/plain": [
       "[{'n_neighbors': array([ 5, 10, 15, 20, 25, 30, 35, 40, 45, 50])}]"
      ]
     },
     "execution_count": 148,
     "metadata": {},
     "output_type": "execute_result"
    }
   ],
   "source": [
    "n_range = np.array(range(5,55,5))\n",
    "tuned_parameters = [{'n_neighbors': n_range}]\n",
    "tuned_parameters"
   ]
  },
  {
   "cell_type": "code",
   "execution_count": 149,
   "metadata": {},
   "outputs": [
    {
     "name": "stdout",
     "output_type": "stream",
     "text": [
      "Wall time: 215 ms\n"
     ]
    },
    {
     "data": {
      "text/plain": [
       "GridSearchCV(cv=5, error_score=nan,\n",
       "             estimator=KNeighborsClassifier(algorithm='auto', leaf_size=30,\n",
       "                                            metric='minkowski',\n",
       "                                            metric_params=None, n_jobs=None,\n",
       "                                            n_neighbors=5, p=2,\n",
       "                                            weights='uniform'),\n",
       "             iid='deprecated', n_jobs=None,\n",
       "             param_grid=[{'n_neighbors': array([ 5, 10, 15, 20, 25, 30, 35, 40, 45, 50])}],\n",
       "             pre_dispatch='2*n_jobs', refit=True, return_train_score=False,\n",
       "             scoring='accuracy', verbose=0)"
      ]
     },
     "execution_count": 149,
     "metadata": {},
     "output_type": "execute_result"
    }
   ],
   "source": [
    "%%time\n",
    "clf_gs = GridSearchCV(KNeighborsClassifier(), tuned_parameters, cv=5, scoring='accuracy')\n",
    "clf_gs.fit(heart_X_train, heart_y_train)"
   ]
  },
  {
   "cell_type": "code",
   "execution_count": 150,
   "metadata": {},
   "outputs": [
    {
     "data": {
      "text/plain": [
       "{'mean_fit_time': array([0.00139742, 0.0009963 , 0.0009975 , 0.00080819, 0.        ,\n",
       "        0.        , 0.        , 0.002     , 0.        , 0.00400009]),\n",
       " 'std_fit_time': array([4.90234921e-04, 1.29186794e-06, 1.78416128e-07, 4.04556255e-04,\n",
       "        0.00000000e+00, 0.00000000e+00, 0.00000000e+00, 3.99999619e-03,\n",
       "        0.00000000e+00, 4.89909164e-03]),\n",
       " 'mean_score_time': array([0.00299039, 0.00363545, 0.00239348, 0.00119653, 0.00400009,\n",
       "        0.00199528, 0.0036129 , 0.00199966, 0.0039947 , 0.00200391]),\n",
       " 'std_score_time': array([0.00063076, 0.0007755 , 0.00048832, 0.00097696, 0.00489909,\n",
       "        0.00399055, 0.00446978, 0.00399933, 0.0048925 , 0.00400782]),\n",
       " 'param_n_neighbors': masked_array(data=[5, 10, 15, 20, 25, 30, 35, 40, 45, 50],\n",
       "              mask=[False, False, False, False, False, False, False, False,\n",
       "                    False, False],\n",
       "        fill_value='?',\n",
       "             dtype=object),\n",
       " 'params': [{'n_neighbors': 5},\n",
       "  {'n_neighbors': 10},\n",
       "  {'n_neighbors': 15},\n",
       "  {'n_neighbors': 20},\n",
       "  {'n_neighbors': 25},\n",
       "  {'n_neighbors': 30},\n",
       "  {'n_neighbors': 35},\n",
       "  {'n_neighbors': 40},\n",
       "  {'n_neighbors': 45},\n",
       "  {'n_neighbors': 50}],\n",
       " 'split0_test_score': array([0.79069767, 0.72093023, 0.65116279, 0.69767442, 0.69767442,\n",
       "        0.62790698, 0.62790698, 0.65116279, 0.72093023, 0.72093023]),\n",
       " 'split1_test_score': array([0.79069767, 0.8372093 , 0.86046512, 0.86046512, 0.86046512,\n",
       "        0.8372093 , 0.8372093 , 0.8372093 , 0.8372093 , 0.8372093 ]),\n",
       " 'split2_test_score': array([0.83333333, 0.78571429, 0.76190476, 0.76190476, 0.73809524,\n",
       "        0.73809524, 0.76190476, 0.78571429, 0.78571429, 0.78571429]),\n",
       " 'split3_test_score': array([0.9047619 , 0.9047619 , 0.9047619 , 0.88095238, 0.9047619 ,\n",
       "        0.88095238, 0.9047619 , 0.9047619 , 0.9047619 , 0.88095238]),\n",
       " 'split4_test_score': array([0.83333333, 0.83333333, 0.85714286, 0.83333333, 0.88095238,\n",
       "        0.88095238, 0.88095238, 0.88095238, 0.83333333, 0.85714286]),\n",
       " 'mean_test_score': array([0.83056478, 0.81638981, 0.80708749, 0.806866  , 0.81638981,\n",
       "        0.79302326, 0.80254707, 0.81196013, 0.81638981, 0.81638981]),\n",
       " 'std_test_score': array([0.04171167, 0.06096504, 0.0908284 , 0.06783287, 0.08263652,\n",
       "        0.09766877, 0.09994768, 0.09006026, 0.06096504, 0.05712461]),\n",
       " 'rank_test_score': array([ 1,  2,  7,  8,  2, 10,  9,  6,  2,  2], dtype=int32)}"
      ]
     },
     "execution_count": 150,
     "metadata": {},
     "output_type": "execute_result"
    }
   ],
   "source": [
    "clf_gs.cv_results_"
   ]
  },
  {
   "cell_type": "code",
   "execution_count": 151,
   "metadata": {},
   "outputs": [
    {
     "data": {
      "text/plain": [
       "KNeighborsClassifier(algorithm='auto', leaf_size=30, metric='minkowski',\n",
       "                     metric_params=None, n_jobs=None, n_neighbors=5, p=2,\n",
       "                     weights='uniform')"
      ]
     },
     "execution_count": 151,
     "metadata": {},
     "output_type": "execute_result"
    }
   ],
   "source": [
    "# Лучшая модель\n",
    "clf_gs.best_estimator_"
   ]
  },
  {
   "cell_type": "code",
   "execution_count": 152,
   "metadata": {},
   "outputs": [
    {
     "data": {
      "text/plain": [
       "0.8305647840531561"
      ]
     },
     "execution_count": 152,
     "metadata": {},
     "output_type": "execute_result"
    }
   ],
   "source": [
    "# Лучшее значение метрики\n",
    "clf_gs.best_score_"
   ]
  },
  {
   "cell_type": "code",
   "execution_count": 153,
   "metadata": {},
   "outputs": [
    {
     "data": {
      "text/plain": [
       "{'n_neighbors': 5}"
      ]
     },
     "execution_count": 153,
     "metadata": {},
     "output_type": "execute_result"
    }
   ],
   "source": [
    "# Лучшее значение параметров\n",
    "clf_gs.best_params_"
   ]
  },
  {
   "cell_type": "code",
   "execution_count": 154,
   "metadata": {},
   "outputs": [
    {
     "data": {
      "text/plain": [
       "[<matplotlib.lines.Line2D at 0x4fae8b0>]"
      ]
     },
     "execution_count": 154,
     "metadata": {},
     "output_type": "execute_result"
    },
    {
     "data": {
      "image/png": "[encoded data removed]",
      "text/plain": [
       "<Figure size 432x288 with 1 Axes>"
      ]
     },
     "metadata": {},
     "output_type": "display_data"
    }
   ],
   "source": [
    "# Изменение качества на тестовой выборке в зависимости от К-соседей\n",
    "plt.plot(n_range, clf_gs.cv_results_['mean_test_score'])"
   ]
  },
  {
   "cell_type": "markdown",
   "metadata": {},
   "source": [
    "### 6.Обучение модели и оценка качества с учетом подобранных гиперпараметров"
   ]
  },
  {
   "cell_type": "code",
   "execution_count": 155,
   "metadata": {},
   "outputs": [],
   "source": [
    "clf_gs.best_estimator_.fit(heart_X_train, heart_y_train)\n",
    "target2_0 = clf_gs.best_estimator_.predict(heart_X_train)\n",
    "target2_1 = clf_gs.best_estimator_.predict(heart_X_test)"
   ]
  },
  {
   "cell_type": "code",
   "execution_count": 156,
   "metadata": {},
   "outputs": [
    {
     "data": {
      "text/plain": [
       "(0.8537735849056604, 0.7142857142857143)"
      ]
     },
     "execution_count": 156,
     "metadata": {},
     "output_type": "execute_result"
    }
   ],
   "source": [
    "# Новое качество модели\n",
    "accuracy_score(heart_y_train, target2_0), accuracy_score(heart_y_test, target2_1)"
   ]
  },
  {
   "cell_type": "code",
   "execution_count": 157,
   "metadata": {},
   "outputs": [
    {
     "data": {
      "text/plain": [
       "(0.9575471698113207, 0.6923076923076923)"
      ]
     },
     "execution_count": 157,
     "metadata": {},
     "output_type": "execute_result"
    }
   ],
   "source": [
    "# Качество модели до подбора гиперпараметров\n",
    "accuracy_score(heart_y_train, target1_0), accuracy_score(heart_y_test, target1_1)"
   ]
  },
  {
   "cell_type": "code",
   "execution_count": null,
   "metadata": {},
   "outputs": [],
   "source": []
  }
 ],
 "metadata": {
  "kernelspec": {
   "display_name": "Python 3",
   "language": "python",
   "name": "python3"
  },
  "language_info": {
   "codemirror_mode": {
    "name": "ipython",
    "version": 3
   },
   "file_extension": ".py",
   "mimetype": "text/x-python",
   "name": "python",
   "nbconvert_exporter": "python",
   "pygments_lexer": "ipython3",
   "version": "3.7.4"
  }
 },
 "nbformat": 4,
 "nbformat_minor": 4
}
